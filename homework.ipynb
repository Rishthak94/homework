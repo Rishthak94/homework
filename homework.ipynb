{
 "cells": [
  {
   "cell_type": "code",
   "execution_count": null,
   "id": "b025ac41",
   "metadata": {},
   "outputs": [],
   "source": [
    "class Bankdetails:\n",
    "    def createAccount(self):\n",
    "        d={}\n",
    "        acc=input('enter acc name: ')\n",
    "        accno=int(input('enter acc number: '))\n",
    "        amount=int(input('enter amount'))\n",
    "        d['Account Name']=acc\n",
    "        d['Account No']=accno\n",
    "        d['Amount']=amount\n",
    "        return(d)\n",
    "    def viewAccount(self,m):\n",
    "        print(f\"Account name is {m['Account Name']} \\nAccount number is {m['Account No']} \\nAmount is {m['Amount']}\")    \n",
    "    def passwordverifitcation(self):\n",
    "        pin=int(input('enter password: '))\n",
    "        return(pin)\n",
    "    def deposit(self,d):\n",
    "        damt=int(input('Enter amount to deposit: '))\n",
    "        self.amt=d['Amount']\n",
    "        if damt%100==0 and damt>0:\n",
    "            self.amt=self.amt+damt\n",
    "            d['Amount']=self.amt\n",
    "        print('Balance is: ',d['Amount'])\n",
    "    def withdrawl(self,d):\n",
    "        wamt=int(input('Enter amount to deposit: '))\n",
    "        self.amt=d['Amount']\n",
    "        if wamt%100==0 and wamt>0 and wamt<self.amt:\n",
    "            self.amt=self.amt-wamt\n",
    "            d['Amount']=self.amt\n",
    "            print('Balance is: ',d['Amount'])\n",
    "        else:\n",
    "            print('Invalid choice')\n",
    "        \n",
    "p=Bankdetails()\n",
    "print('enter 1 to Create Account')\n",
    "print('enter 2 to View Account')\n",
    "print('enter 3 to withdraw')\n",
    "print('enter 4 to Deposit')\n",
    "ch=int(input('enter choice'))\n",
    "if ch==1:\n",
    "    bankdet=p.createAccount()\n",
    "if ch==2:\n",
    "    p.viewAccount(bankdet)\n",
    "if ch==4:\n",
    "    pi=p.passwordverifitcation()\n",
    "    if pi==1234:\n",
    "        p.deposit(bankdet)\n",
    "    else:\n",
    "        print('invalid pin')\n",
    "if ch==3:\n",
    "    pi=p.passwordverifitcation()\n",
    "    if pi==1234:\n",
    "        p.withdrawl(bankdet)\n",
    "    else:\n",
    "        print('invalid pin')\n",
    "    "
   ]
  }
 ],
 "metadata": {
  "kernelspec": {
   "display_name": "Python 3",
   "language": "python",
   "name": "python3"
  },
  "language_info": {
   "codemirror_mode": {
    "name": "ipython",
    "version": 3
   },
   "file_extension": ".py",
   "mimetype": "text/x-python",
   "name": "python",
   "nbconvert_exporter": "python",
   "pygments_lexer": "ipython3",
   "version": "3.8.8"
  }
 },
 "nbformat": 4,
 "nbformat_minor": 5
}
